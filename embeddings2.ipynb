{
  "nbformat": 4,
  "nbformat_minor": 0,
  "metadata": {
    "colab": {
      "name": "Untitled1.ipynb",
      "provenance": [],
      "authorship_tag": "ABX9TyMoBKBL2kLJIb3wHi0+hFyT",
      "include_colab_link": true
    },
    "kernelspec": {
      "name": "python3",
      "display_name": "Python 3"
    },
    "language_info": {
      "name": "python"
    }
  },
  "cells": [
    {
      "cell_type": "markdown",
      "metadata": {
        "id": "view-in-github",
        "colab_type": "text"
      },
      "source": [
        "<a href=\"https://colab.research.google.com/github/aggelospsiris/Text-classification-using-neural-networks/blob/main/embeddings2.ipynb\" target=\"_parent\"><img src=\"https://colab.research.google.com/assets/colab-badge.svg\" alt=\"Open In Colab\"/></a>"
      ]
    },
    {
      "cell_type": "code",
      "execution_count": 1,
      "metadata": {
        "id": "qdKUrG7I4yOI"
      },
      "outputs": [],
      "source": [
        "import tensorflow as tf\n",
        "tf.test.gpu_device_name()\n",
        "import re\n",
        "import numpy as np\n",
        "\n",
        "#labels into vectors array\n",
        "Y_train_labels = np.loadtxt(\"/content/sample_data/train-label.dat\")\n",
        "#prepare train\n",
        "newlines = []\n",
        "with open('/content/sample_data/train-data.dat', 'r') as f:\n",
        "    lines = f.readlines()\n",
        "    for line in lines:\n",
        "        # in every line erase any occurance that starts with < and ends with > with\n",
        "        newline = re.sub(\"\\<[^>]*\\>\", \"\", line)\n",
        "        arr = newline.split()\n",
        "        arr = list(map(int, arr))\n",
        "        newlines.append(arr)\n",
        "\n"
      ]
    },
    {
      "cell_type": "code",
      "source": [
        "#i am using this block to find the length of the padded vectors\n",
        "lengths = []\n",
        "for line in newlines:\n",
        "  lengths.append(len(line))\n",
        "\n",
        "arr = np.array(lengths)\n",
        "max_lenght = np.amax(arr)\n",
        "max_lenght"
      ],
      "metadata": {
        "id": "oF7hH-JfSfTP",
        "outputId": "31a911b9-5ce9-4d08-a164-c2198d4230f2",
        "colab": {
          "base_uri": "https://localhost:8080/"
        }
      },
      "execution_count": 9,
      "outputs": [
        {
          "output_type": "execute_result",
          "data": {
            "text/plain": [
              "270"
            ]
          },
          "metadata": {},
          "execution_count": 9
        }
      ]
    },
    {
      "cell_type": "code",
      "source": [
        "newlines[0]\n"
      ],
      "metadata": {
        "colab": {
          "base_uri": "https://localhost:8080/"
        },
        "id": "qOV1xspS72TZ",
        "outputId": "112407ad-a672-4ddc-c298-84761730d437"
      },
      "execution_count": 10,
      "outputs": [
        {
          "output_type": "execute_result",
          "data": {
            "text/plain": [
              "[6705, 5997, 8310, 3606, 674, 8058, 5044, 4836, 4312, 5154, 8310, 4225]"
            ]
          },
          "metadata": {},
          "execution_count": 10
        }
      ]
    },
    {
      "cell_type": "code",
      "source": [
        "len(newlines)\n"
      ],
      "metadata": {
        "colab": {
          "base_uri": "https://localhost:8080/"
        },
        "id": "CbqG5w8RUemp",
        "outputId": "33024d4f-03bf-4fb7-9cd4-14254a75c447"
      },
      "execution_count": 11,
      "outputs": [
        {
          "output_type": "execute_result",
          "data": {
            "text/plain": [
              "8251"
            ]
          },
          "metadata": {},
          "execution_count": 11
        }
      ]
    },
    {
      "cell_type": "code",
      "source": [
        "Y_train_labels[0]"
      ],
      "metadata": {
        "colab": {
          "base_uri": "https://localhost:8080/"
        },
        "id": "nhhVc2t8UU9I",
        "outputId": "716565e4-98c1-4b28-ecea-d4869b59083b"
      },
      "execution_count": 12,
      "outputs": [
        {
          "output_type": "execute_result",
          "data": {
            "text/plain": [
              "array([1., 0., 1., 1., 1., 0., 0., 0., 0., 0., 0., 0., 1., 0., 0., 0., 0.,\n",
              "       0., 0., 0.])"
            ]
          },
          "metadata": {},
          "execution_count": 12
        }
      ]
    },
    {
      "cell_type": "code",
      "source": [
        "len(Y_train_labels)"
      ],
      "metadata": {
        "colab": {
          "base_uri": "https://localhost:8080/"
        },
        "id": "J8L45GIXUhuH",
        "outputId": "7f416eda-57c7-4553-879d-7b5019a557b0"
      },
      "execution_count": 13,
      "outputs": [
        {
          "output_type": "execute_result",
          "data": {
            "text/plain": [
              "8251"
            ]
          },
          "metadata": {},
          "execution_count": 13
        }
      ]
    },
    {
      "cell_type": "code",
      "source": [
        "from keras.preprocessing.sequence import pad_sequences\n",
        "\n",
        "train_padded = pad_sequences(newlines,maxlen=max_lenght,padding='post',truncating='post')"
      ],
      "metadata": {
        "id": "hDUH7c4e7lhN"
      },
      "execution_count": 18,
      "outputs": []
    },
    {
      "cell_type": "code",
      "source": [
        "train_padded[50]"
      ],
      "metadata": {
        "colab": {
          "base_uri": "https://localhost:8080/"
        },
        "id": "ur-YzaaD-7pJ",
        "outputId": "6548154c-f863-4b09-e99b-c3f5049a0f93"
      },
      "execution_count": 19,
      "outputs": [
        {
          "output_type": "execute_result",
          "data": {
            "text/plain": [
              "array([ 859,  444, 1037,  859,  444, 8482, 4466, 8482, 2609,  740, 7553,\n",
              "        852, 3664,  529, 7102, 5094, 4948, 1382, 7102, 5094, 5094,  852,\n",
              "       3664, 7739, 1910, 1938, 5217,  682, 5217, 2610, 7144,  550, 5970,\n",
              "       1977, 1630, 2863, 1985, 1499,  327, 7962,  740, 6190, 6171, 1113,\n",
              "       3610, 2287, 7483, 2155, 4187, 6213, 6190, 1113, 3610, 2287, 7483,\n",
              "          6, 7553, 7464, 2287,  894, 1316, 5534, 6190, 1251, 6685,  381,\n",
              "        965, 6166, 4912, 2759, 4588, 1781, 3324, 2054,  539, 5752,  539,\n",
              "       4312, 6131,  803, 7962, 7483, 3967, 4621, 3145, 4407, 4015, 4621,\n",
              "       3593, 2015, 7553,   47, 5582, 1781, 3558, 6544, 2015, 7553,   47,\n",
              "       6190, 3869, 2818, 7553,  971, 6190, 3869, 4112, 3982, 3290, 7553,\n",
              "       4439, 2818, 7553, 1378,    6, 7553, 3424, 1574,  539, 6213, 6190,\n",
              "       7439, 5924,  188,    6, 7553, 2804, 2044, 4439, 2985, 6803, 7553,\n",
              "       2895, 3355, 3654, 4258, 3982, 3290, 7679, 7034, 6119, 4439,    6,\n",
              "       4439, 2818, 4439, 4911, 5427, 4749, 2818, 7553, 1946, 6119, 7804,\n",
              "       7553, 1290, 2155, 2818, 7553, 4032, 6500,  874, 7804, 7553,  874,\n",
              "       2155, 2818, 7553,  126, 1946, 6119, 2155, 7804, 7553,  470, 5073,\n",
              "       2818, 7553,  126,  126, 7553, 1574, 1946, 6413, 2374, 7209,    6,\n",
              "       7553, 2818, 7553, 2985, 1824, 2818, 7553, 2985, 5073,  462, 2912,\n",
              "       4749, 1824, 8071, 8138, 3988, 2985, 1824, 2818, 7553, 6119, 7553,\n",
              "          6, 7553, 2818, 7553, 4104, 3355, 6119, 5238, 5138, 5404,   47,\n",
              "       2818, 7553,  874, 2155, 2818, 7553, 7752, 1946, 5436, 3900, 5073,\n",
              "        325,    0,    0,    0,    0,    0,    0,    0,    0,    0,    0,\n",
              "          0,    0,    0,    0,    0,    0,    0,    0,    0,    0,    0,\n",
              "          0,    0,    0,    0,    0,    0,    0,    0,    0,    0,    0,\n",
              "          0,    0,    0,    0,    0,    0], dtype=int32)"
            ]
          },
          "metadata": {},
          "execution_count": 19
        }
      ]
    },
    {
      "cell_type": "code",
      "source": [
        "len(train_padded)"
      ],
      "metadata": {
        "colab": {
          "base_uri": "https://localhost:8080/"
        },
        "id": "2uRUdxrMUrM9",
        "outputId": "45571ee4-c836-4dbe-8a7d-d19c50bfb323"
      },
      "execution_count": 20,
      "outputs": [
        {
          "output_type": "execute_result",
          "data": {
            "text/plain": [
              "8251"
            ]
          },
          "metadata": {},
          "execution_count": 20
        }
      ]
    },
    {
      "cell_type": "code",
      "source": [
        "from keras.layers import Dense,Embedding,Flatten\n",
        "from keras.models import Sequential\n",
        "from sklearn.model_selection import KFold\n",
        "import keras\n",
        "from tensorflow import keras\n",
        "from matplotlib import pyplot\n",
        "from keras.callbacks import EarlyStopping\n",
        "\n"
      ],
      "metadata": {
        "id": "I_dMeetyForM"
      },
      "execution_count": 21,
      "outputs": []
    },
    {
      "cell_type": "code",
      "source": [
        "def ce_model():\n",
        "    # Create model\n",
        "    model = Sequential()\n",
        "    #Embedding layer\n",
        "    model.add(Embedding(8520,100,input_length=max_lenght,mask_zero=True))\n",
        "    model.add(Flatten())\n",
        "    #1 hidden\n",
        "    model.add(Dense(units = len(train_padded[0]) + 20, activation='relu'))\n",
        "    #output layer with 20 output neuron cause the classfication classes are 20\n",
        "    model.add(Dense(20, activation='sigmoid'))\n",
        "    opt = keras.optimizers.SGD(learning_rate=0.001, nesterov=False, name=\"SGD\")\n",
        "    model.compile(optimizer=opt, loss=keras.losses.binary_crossentropy, metrics=['accuracy'])\n",
        "    return model\n",
        "def mse_model():\n",
        "    # Create model\n",
        "    model = Sequential()\n",
        "    #Embedding layer\n",
        "    model.add(Embedding(8520,100,input_length=max_lenght,mask_zero=True))\n",
        "    model.add(Flatten())\n",
        "    #1 hidden\n",
        "    model.add(Dense(units = len(train_padded[0]) + 20, activation='relu'))\n",
        "    #output layer with 20 output neuron cause the classfication classes are 20\n",
        "    model.add(Dense(units = 20, activation='sigmoid'))\n",
        "    opt = keras.optimizers.SGD(learning_rate=0.001, nesterov=False, name=\"SGD\")\n",
        "    model.compile(optimizer=opt,loss=keras.losses.mse, metrics=['accuracy'])\n",
        "    return model"
      ],
      "metadata": {
        "id": "pSP5xmURGkwc"
      },
      "execution_count": 24,
      "outputs": []
    },
    {
      "cell_type": "code",
      "source": [
        "#c.cross-validation\n",
        "# Split the data to training and testing data 5-Fold\n",
        "kfold = KFold(n_splits=5, shuffle=True)\n",
        "ce_loss = []\n",
        "mse_loss = []\n",
        "acc_mse=[]\n",
        "acc_ce=[]"
      ],
      "metadata": {
        "id": "np8k3v2BKHL2"
      },
      "execution_count": 25,
      "outputs": []
    },
    {
      "cell_type": "code",
      "source": [
        "from inspect import trace\n",
        "for i, (train, test) in enumerate(kfold.split(train_padded)):\n",
        "\n",
        "    callback = EarlyStopping(monitor=\"val_accuracy\", mode=\"max\", min_delta=0, patience=5, verbose=0)\n",
        "\n",
        "    # Fit models\n",
        "    #CE\n",
        "    model1=ce_model()\n",
        "    history_ce = model1.fit(train_padded[train], Y_train_labels[train],\n",
        "                            validation_data=(train_padded[train], Y_train_labels[train]),\n",
        "                            callbacks=[callback],\n",
        "                            epochs=100, batch_size=100, verbose=0)\n",
        "    loss_ce, accuracy_ce = model1.evaluate(train_padded[test], Y_train_labels[test],verbose=0)\n",
        "    #MSE\n",
        "    model2=mse_model()\n",
        "    history_mse = model2.fit(train_padded[train], Y_train_labels[train],\n",
        "                             validation_data=(train_padded[train], Y_train_labels[train]),\n",
        "                             callbacks=[callback],\n",
        "                             epochs=100, batch_size=100, verbose=0)\n",
        "    loss_mse, accuracy_mse = model2.evaluate(train_padded[test], Y_train_labels[test],verbose=0)\n",
        "    \n",
        "    mse_loss.append(loss_mse)\n",
        "    acc_ce.append(accuracy_ce)\n",
        "    acc_mse.append(accuracy_mse)\n",
        "    ce_loss.append(loss_ce)\n",
        "\n",
        "    print(\"Fold :\", i)\n",
        "    print(\"CE :\", loss_ce)\n",
        "    print(\"MSE :\", loss_mse)\n",
        "    print(\"Acc_CE :\", accuracy_ce)\n",
        "    print(\"Acc_MSE :\", accuracy_mse)\n",
        "    print(\"---------------------------------------\")"
      ],
      "metadata": {
        "colab": {
          "base_uri": "https://localhost:8080/"
        },
        "id": "MOsCYxPRKMW8",
        "outputId": "343bfb44-f988-4f7f-9aa0-56c033c0cca2"
      },
      "execution_count": 26,
      "outputs": [
        {
          "output_type": "stream",
          "name": "stdout",
          "text": [
            "Fold : 0\n",
            "CE : 0.5055094957351685\n",
            "MSE : 0.24281001091003418\n",
            "Acc_CE : 0.2822531759738922\n",
            "Acc_MSE : 0.04360993206501007\n",
            "---------------------------------------\n",
            "Fold : 1\n",
            "CE : 0.6640737652778625\n",
            "MSE : 0.14908403158187866\n",
            "Acc_CE : 0.024242423474788666\n",
            "Acc_MSE : 0.2793939411640167\n",
            "---------------------------------------\n",
            "Fold : 2\n",
            "CE : 0.41317352652549744\n",
            "MSE : 0.13140538334846497\n",
            "Acc_CE : 0.23818181455135345\n",
            "Acc_MSE : 0.23757575452327728\n",
            "---------------------------------------\n",
            "Fold : 3\n",
            "CE : 0.6541170477867126\n",
            "MSE : 0.24173188209533691\n",
            "Acc_CE : 0.06787879019975662\n",
            "Acc_MSE : 0.016363635659217834\n",
            "---------------------------------------\n",
            "Fold : 4\n",
            "CE : 0.4243192970752716\n",
            "MSE : 0.15269383788108826\n",
            "Acc_CE : 0.2581818103790283\n",
            "Acc_MSE : 0.2587878704071045\n",
            "---------------------------------------\n"
          ]
        }
      ]
    },
    {
      "cell_type": "code",
      "source": [
        "#print the mean results\n",
        "print(\"Accuracy_MSE: \", np.mean(acc_mse))\n",
        "print(\"Accuracy_CE: \", np.mean(acc_ce))\n",
        "print(\"CE is : \", np.mean(ce_loss))\n",
        "print(\"MSE is : \", np.mean(mse_loss))"
      ],
      "metadata": {
        "colab": {
          "base_uri": "https://localhost:8080/"
        },
        "id": "M30grZTGm0wm",
        "outputId": "1d4a0092-af19-49e1-a3ca-9867bb98c504"
      },
      "execution_count": 27,
      "outputs": [
        {
          "output_type": "stream",
          "name": "stdout",
          "text": [
            "Accuracy_MSE:  0.1671462267637253\n",
            "Accuracy_CE:  0.17414760291576387\n",
            "CE is :  0.5322386264801026\n",
            "MSE is :  0.1835450291633606\n"
          ]
        }
      ]
    },
    {
      "cell_type": "code",
      "source": [
        "#Plots\n",
        "pyplot.figure(0)\n",
        "pyplot.subplot(2, 2, 1)\n",
        "pyplot.plot(history_ce.history['accuracy'], label='Accuracy (train)')\n",
        "pyplot.plot(history_ce.history['val_accuracy'], label='Accuracy (test)')\n",
        "pyplot.title(\"Accuracy with Cross Entropy loss\")\n",
        "pyplot.ylabel(\"Accuracy\")\n",
        "pyplot.xlabel(\"Epochs\")\n",
        "pyplot.legend()\n",
        "\n",
        "pyplot.subplot(2, 2, 2)\n",
        "pyplot.plot(history_mse.history['accuracy'], label='Accuracy (train)')\n",
        "pyplot.plot(history_mse.history['val_accuracy'], label='Accuracy (test)')\n",
        "pyplot.title(\"Accuracy with MSE loss\")\n",
        "pyplot.ylabel(\"Accuracy\")\n",
        "pyplot.xlabel(\"Epochs\")\n",
        "pyplot.legend()\n",
        "pyplot.tight_layout()\n",
        "pyplot.show()\n",
        "\n",
        "\n",
        "# plot the cross entropy loss\n",
        "pyplot.figure(1)\n",
        "pyplot.subplot(2, 2, 1)\n",
        "pyplot.plot(history_ce.history['loss'], label='Cross entropy (train)')\n",
        "pyplot.plot(history_ce.history['val_loss'], label='Cross entropy (test)')\n",
        "pyplot.title('Cross Entropy')\n",
        "pyplot.xlabel('Epochs')\n",
        "pyplot.ylabel('Error value')\n",
        "pyplot.legend()\n",
        "\n",
        "# plot the mse loss\n",
        "pyplot.subplot(2, 2, 2)\n",
        "pyplot.plot(history_mse.history['loss'], label='MSE (train)')\n",
        "pyplot.plot(history_mse.history['val_loss'], label='MSE (test)')\n",
        "pyplot.title('MSE')\n",
        "pyplot.xlabel('Epochs')\n",
        "pyplot.ylabel('Error value')\n",
        "pyplot.legend()\n",
        "pyplot.tight_layout()\n",
        "pyplot.show()"
      ],
      "metadata": {
        "colab": {
          "base_uri": "https://localhost:8080/",
          "height": 347
        },
        "id": "rWN3rvOeho_h",
        "outputId": "35ec30b8-9e30-4f63-ac9c-994c2ec9f890"
      },
      "execution_count": 29,
      "outputs": [
        {
          "output_type": "display_data",
          "data": {
            "text/plain": [
              "<Figure size 432x288 with 2 Axes>"
            ],
            "image/png": "[encoded data removed]"
          },
          "metadata": {
            "needs_background": "light"
          }
        },
        {
          "output_type": "display_data",
          "data": {
            "text/plain": [
              "<Figure size 432x288 with 2 Axes>"
            ],
            "image/png": "[encoded data removed]"
          },
          "metadata": {
            "needs_background": "light"
          }
        }
      ]
    },
    {
      "cell_type": "code",
      "source": [
        ""
      ],
      "metadata": {
        "id": "PO220fOymzFL"
      },
      "execution_count": null,
      "outputs": []
    }
  ]
}