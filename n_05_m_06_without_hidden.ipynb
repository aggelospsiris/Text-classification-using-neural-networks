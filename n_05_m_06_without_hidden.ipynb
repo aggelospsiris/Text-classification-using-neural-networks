{
  "nbformat": 4,
  "nbformat_minor": 0,
  "metadata": {
    "colab": {
      "name": "text_classification.ipynb",
      "provenance": [],
      "collapsed_sections": [],
      "include_colab_link": true
    },
    "kernelspec": {
      "name": "python3",
      "display_name": "Python 3"
    },
    "language_info": {
      "name": "python"
    },
    "accelerator": "GPU"
  },
  "cells": [
    {
      "cell_type": "markdown",
      "metadata": {
        "id": "view-in-github",
        "colab_type": "text"
      },
      "source": [
        "<a href=\"https://colab.research.google.com/github/aggelospsiris/Text-classification-using-neural-networks/blob/main/n_05_m_06_without_hidden.ipynb\" target=\"_parent\"><img src=\"https://colab.research.google.com/assets/colab-badge.svg\" alt=\"Open In Colab\"/></a>"
      ]
    },
    {
      "cell_type": "code",
      "source": [
        "import tensorflow as tf\n",
        "tf.test.gpu_device_name()"
      ],
      "metadata": {
        "colab": {
          "base_uri": "https://localhost:8080/",
          "height": 36
        },
        "id": "0xMKvAGGR7QB",
        "outputId": "c10b28a5-25f4-43fd-a7c3-d0db2dd64c3a"
      },
      "execution_count": 1,
      "outputs": [
        {
          "output_type": "execute_result",
          "data": {
            "text/plain": [
              "'/device:GPU:0'"
            ],
            "application/vnd.google.colaboratory.intrinsic+json": {
              "type": "string"
            }
          },
          "metadata": {},
          "execution_count": 1
        }
      ]
    },
    {
      "cell_type": "code",
      "execution_count": 2,
      "metadata": {
        "id": "13vmleEWwYSe"
      },
      "outputs": [],
      "source": [
        "import re\n",
        "import numpy as np\n",
        "from keras.layers import Dense\n",
        "from keras.models import Sequential\n",
        "from sklearn import preprocessing\n",
        "from sklearn.model_selection import KFold\n",
        "from keras import backend as K\n",
        "import keras\n",
        "from tensorflow import keras\n",
        "from matplotlib import pyplot\n",
        "from tensorflow.keras.callbacks import EarlyStopping\n",
        "\n"
      ]
    },
    {
      "cell_type": "code",
      "source": [
        "#labels into vectors array\n",
        "Y_train_labels = np.loadtxt(\"/content/sample_data/train-label.dat\")\n"
      ],
      "metadata": {
        "id": "7aBhPNCVyuAX"
      },
      "execution_count": 3,
      "outputs": []
    },
    {
      "cell_type": "code",
      "source": [
        "#prepare train\n",
        "newlines = []\n",
        "with open('/content/sample_data/train-data.dat', 'r') as f:\n",
        "    lines = f.readlines()\n",
        "    for line in lines:\n",
        "        # in every line erase any occurance that starts with < and ends with > with\n",
        "        newline = re.sub(\"\\<[^>]*\\>\", \"\", line)\n",
        "        newlines.append(newline)\n",
        "\n",
        "vocab = list(range(0, 8251))\n",
        "vects = []\n",
        "vect = []\n",
        "count = 0\n",
        "i = 0\n",
        "for line in newlines:\n",
        "    fraze = line.split()\n",
        "    fraze = [int(x) for x in fraze]\n",
        "    for v in vocab:\n",
        "        for f in fraze:\n",
        "            if(v == f):\n",
        "                count = count +1\n",
        "        vect.append(count)\n",
        "        count = 0\n",
        "    vect = np.array(vect)\n",
        "    #vects.append(np.interp(vect, (vect.min(), vect.max()), (-1, +1)))\n",
        "    vects.append(vect)\n",
        "    vect = []\n",
        "\n",
        "X_train = np.array(vects)\n",
        "vects = []"
      ],
      "metadata": {
        "id": "JnDq_X4fy_p1"
      },
      "execution_count": 4,
      "outputs": []
    },
    {
      "cell_type": "code",
      "source": [
        "def ce_model():\n",
        "    # Create model\n",
        "    model = Sequential()\n",
        "    #input layer with a hidden layer of (i+o)\n",
        "    model.add(Dense(units = len(X_train[0])+20, activation=\"relu\", input_dim=len(X_train[0])))\n",
        "  \n",
        "    #output layer with 20 output neuron cause the classfication classes are 20\n",
        "    model.add(Dense(units = 20, activation='sigmoid'))\n",
        "    opt = keras.optimizers.SGD(learning_rate=0.05,momentum=0.6, nesterov=False, name=\"SGD\")\n",
        "    model.compile(optimizer=opt, loss=keras.losses.binary_crossentropy, metrics=['accuracy'])\n",
        "    return model\n",
        "def mse_model():\n",
        "    # Create model\n",
        "    model = Sequential()\n",
        "    #input layer with a hidden layer of (i+o)\n",
        "    model.add(Dense(units = len(X_train[0])+20, activation=\"relu\", input_dim=len(X_train[0])))\n",
        "\n",
        "    #output layer with 20 output neuron cause the classfication classes are 20\n",
        "    model.add(Dense(units = 20, activation='sigmoid'))\n",
        "    opt = keras.optimizers.SGD(learning_rate=0.05,momentum=0.6, nesterov=False, name=\"SGD\")\n",
        "    model.compile(optimizer=opt,loss=keras.losses.mse, metrics=['accuracy'])\n",
        "    return model"
      ],
      "metadata": {
        "id": "S-03vs-qlDtY"
      },
      "execution_count": 5,
      "outputs": []
    },
    {
      "cell_type": "code",
      "source": [
        "#c.cross-validation\n",
        "# Split the data to training and testing data 5-Fold\n",
        "kfold = KFold(n_splits=5, shuffle=True)\n",
        "ce_loss = []\n",
        "mse_loss = []\n",
        "acc_mse=[]\n",
        "acc_ce=[]"
      ],
      "metadata": {
        "id": "m0ADeL0y2NP0"
      },
      "execution_count": 6,
      "outputs": []
    },
    {
      "cell_type": "markdown",
      "source": [
        ""
      ],
      "metadata": {
        "id": "HbR9978ve4eP"
      }
    },
    {
      "cell_type": "code",
      "source": [
        "for i, (train, test) in enumerate(kfold.split(X_train)):\n",
        "\n",
        "    callback = EarlyStopping(monitor=\"val_accuracy\", mode=\"max\", min_delta=0, patience=5, verbose=0)\n",
        "\n",
        "    # Fit models\n",
        "    #CE\n",
        "    model1=ce_model()\n",
        "    history_ce = model1.fit(X_train[train], Y_train_labels[train],\n",
        "                            validation_data=(X_train[train], Y_train_labels[train]),\n",
        "                            epochs=40, batch_size=200, verbose=0)\n",
        "    loss_ce, accuracy_ce = model1.evaluate(X_train[test], Y_train_labels[test],verbose=0)\n",
        "    #MSE\n",
        "    model2=mse_model()\n",
        "    history_mse = model2.fit(X_train[train], Y_train_labels[train],\n",
        "                             validation_data=(X_train[train], Y_train_labels[train]),\n",
        "                             epochs=40, batch_size=200, verbose=0)\n",
        "    loss_mse, accuracy_mse = model2.evaluate(X_train[test], Y_train_labels[test],verbose=0)\n",
        "    \n",
        "    mse_loss.append(loss_mse)\n",
        "    acc_ce.append(accuracy_ce)\n",
        "    acc_mse.append(accuracy_mse)\n",
        "    ce_loss.append(loss_ce)\n",
        "\n",
        "    print(\"Fold :\", i)\n",
        "    print(\"CE :\", loss_ce)\n",
        "    print(\"MSE :\", loss_mse)\n",
        "    print(\"Acc_CE :\", accuracy_ce)\n",
        "    print(\"Acc_MSE :\", accuracy_mse)\n",
        "    print(\"---------------------------------------\")\n"
      ],
      "metadata": {
        "id": "L4loDwcL3ro0",
        "colab": {
          "base_uri": "https://localhost:8080/"
        },
        "outputId": "8b8681c1-1dff-4ce6-d4b6-dd7d6d098267"
      },
      "execution_count": 7,
      "outputs": [
        {
          "output_type": "stream",
          "name": "stdout",
          "text": [
            "Fold : 0\n",
            "CE : 0.31072449684143066\n",
            "MSE : 0.10740875452756882\n",
            "Acc_CE : 0.3288915753364563\n",
            "Acc_MSE : 0.3688673675060272\n",
            "---------------------------------------\n",
            "Fold : 1\n",
            "CE : 0.31993192434310913\n",
            "MSE : 0.11022055894136429\n",
            "Acc_CE : 0.33030304312705994\n",
            "Acc_MSE : 0.3545454442501068\n",
            "---------------------------------------\n",
            "Fold : 2\n",
            "CE : 0.31177520751953125\n",
            "MSE : 0.10798698663711548\n",
            "Acc_CE : 0.31939393281936646\n",
            "Acc_MSE : 0.3327272832393646\n",
            "---------------------------------------\n",
            "Fold : 3\n",
            "CE : 0.3170976936817169\n",
            "MSE : 0.10977045446634293\n",
            "Acc_CE : 0.3266666531562805\n",
            "Acc_MSE : 0.3593939542770386\n",
            "---------------------------------------\n",
            "Fold : 4\n",
            "CE : 0.30757391452789307\n",
            "MSE : 0.10759833455085754\n",
            "Acc_CE : 0.3357575833797455\n",
            "Acc_MSE : 0.3545454442501068\n",
            "---------------------------------------\n"
          ]
        }
      ]
    },
    {
      "cell_type": "code",
      "source": [
        "#print the mean results\n",
        "print(\"Accuracy_MSE: \", np.mean(acc_mse))\n",
        "print(\"Accuracy_CE: \", np.mean(acc_ce))\n",
        "print(\"CE is : \", np.mean(ce_loss))\n",
        "print(\"MSE is : \", np.mean(mse_loss))"
      ],
      "metadata": {
        "id": "wPgXdei0hUvg",
        "colab": {
          "base_uri": "https://localhost:8080/"
        },
        "outputId": "574626ba-ff3f-49a3-c6b4-c8bc8484f9b2"
      },
      "execution_count": 8,
      "outputs": [
        {
          "output_type": "stream",
          "name": "stdout",
          "text": [
            "Accuracy_MSE:  0.3540158987045288\n",
            "Accuracy_CE:  0.32820255756378175\n",
            "CE is :  0.31342064738273623\n",
            "MSE is :  0.10859701782464981\n"
          ]
        }
      ]
    },
    {
      "cell_type": "markdown",
      "source": [
        ""
      ],
      "metadata": {
        "id": "zoMlHo_NnmVU"
      }
    },
    {
      "cell_type": "code",
      "source": [
        "#Plots\n",
        "pyplot.figure(0)\n",
        "pyplot.subplot(2, 2, 1)\n",
        "pyplot.plot(history_ce.history['accuracy'], label='Accuracy (train)')\n",
        "pyplot.plot(history_ce.history['val_accuracy'], label='Accuracy (test)')\n",
        "pyplot.title(\"Accuracy with Cross Entropy loss\")\n",
        "pyplot.ylabel(\"Accuracy\")\n",
        "pyplot.xlabel(\"Epochs\")\n",
        "pyplot.legend()\n",
        "\n",
        "pyplot.subplot(2, 2, 2)\n",
        "pyplot.plot(history_mse.history['accuracy'], label='Accuracy (train)')\n",
        "pyplot.plot(history_mse.history['val_accuracy'], label='Accuracy (test)')\n",
        "pyplot.title(\"Accuracy with MSE loss\")\n",
        "pyplot.ylabel(\"Accuracy\")\n",
        "pyplot.xlabel(\"Epochs\")\n",
        "pyplot.legend()\n",
        "pyplot.tight_layout()\n",
        "pyplot.show()\n",
        "\n",
        "\n",
        "# plot the cross entropy loss\n",
        "pyplot.figure(1)\n",
        "pyplot.subplot(2, 2, 1)\n",
        "pyplot.plot(history_ce.history['loss'], label='Cross entropy (train)')\n",
        "pyplot.plot(history_ce.history['val_loss'], label='Cross entropy (test)')\n",
        "pyplot.title('Cross Entropy')\n",
        "pyplot.xlabel('Epochs')\n",
        "pyplot.ylabel('Error value')\n",
        "pyplot.legend()\n",
        "\n",
        "# plot the mse loss\n",
        "pyplot.subplot(2, 2, 2)\n",
        "pyplot.plot(history_mse.history['loss'], label='MSE (train)')\n",
        "pyplot.plot(history_mse.history['val_loss'], label='MSE (test)')\n",
        "pyplot.title('MSE')\n",
        "pyplot.xlabel('Epochs')\n",
        "pyplot.ylabel('Error value')\n",
        "pyplot.legend()\n",
        "pyplot.tight_layout()\n",
        "pyplot.show()"
      ],
      "metadata": {
        "id": "CA74bjkI8ZhZ",
        "colab": {
          "base_uri": "https://localhost:8080/",
          "height": 347
        },
        "outputId": "4708d1de-3edc-4d75-e5f3-a0c00625545d"
      },
      "execution_count": 9,
      "outputs": [
        {
          "output_type": "display_data",
          "data": {
            "text/plain": [
              "<Figure size 432x288 with 2 Axes>"
            ],
            "image/png": "[encoded data removed]"
          },
          "metadata": {
            "needs_background": "light"
          }
        },
        {
          "output_type": "display_data",
          "data": {
            "text/plain": [
              "<Figure size 432x288 with 2 Axes>"
            ],
            "image/png": "[encoded data removed]"
          },
          "metadata": {
            "needs_background": "light"
          }
        }
      ]
    },
    {
      "cell_type": "markdown",
      "source": [
        ""
      ],
      "metadata": {
        "id": "ZEg0K6wEABN3"
      }
    }
  ]
}