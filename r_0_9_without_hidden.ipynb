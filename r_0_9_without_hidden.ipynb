{
  "nbformat": 4,
  "nbformat_minor": 0,
  "metadata": {
    "colab": {
      "name": "text_classification.ipynb",
      "provenance": [],
      "collapsed_sections": [],
      "include_colab_link": true
    },
    "kernelspec": {
      "name": "python3",
      "display_name": "Python 3"
    },
    "language_info": {
      "name": "python"
    },
    "accelerator": "GPU"
  },
  "cells": [
    {
      "cell_type": "markdown",
      "metadata": {
        "id": "view-in-github",
        "colab_type": "text"
      },
      "source": [
        "<a href=\"https://colab.research.google.com/github/aggelospsiris/Text-classification-using-neural-networks/blob/main/r_0_9_without_hidden.ipynb\" target=\"_parent\"><img src=\"https://colab.research.google.com/assets/colab-badge.svg\" alt=\"Open In Colab\"/></a>"
      ]
    },
    {
      "cell_type": "code",
      "source": [
        "import tensorflow as tf\n",
        "tf.test.gpu_device_name()"
      ],
      "metadata": {
        "colab": {
          "base_uri": "https://localhost:8080/",
          "height": 36
        },
        "id": "0xMKvAGGR7QB",
        "outputId": "71934956-5b37-40fc-8940-4967ad893573"
      },
      "execution_count": 1,
      "outputs": [
        {
          "output_type": "execute_result",
          "data": {
            "text/plain": [
              "'/device:GPU:0'"
            ],
            "application/vnd.google.colaboratory.intrinsic+json": {
              "type": "string"
            }
          },
          "metadata": {},
          "execution_count": 1
        }
      ]
    },
    {
      "cell_type": "code",
      "execution_count": 2,
      "metadata": {
        "id": "13vmleEWwYSe"
      },
      "outputs": [],
      "source": [
        "import re\n",
        "import numpy as np\n",
        "from keras.layers import Dense\n",
        "from keras.models import Sequential\n",
        "from sklearn import preprocessing\n",
        "from sklearn.model_selection import KFold\n",
        "from keras import backend as K\n",
        "import keras\n",
        "from tensorflow import keras\n",
        "from matplotlib import pyplot\n",
        "from keras.callbacks import EarlyStopping\n",
        "from keras.regularizers import l2\n",
        "\n"
      ]
    },
    {
      "cell_type": "code",
      "source": [
        "#labels into vectors array\n",
        "Y_train_labels = np.loadtxt(\"/content/sample_data/train-label.dat\")\n"
      ],
      "metadata": {
        "id": "7aBhPNCVyuAX"
      },
      "execution_count": 3,
      "outputs": []
    },
    {
      "cell_type": "code",
      "source": [
        "#prepare train\n",
        "newlines = []\n",
        "with open('/content/sample_data/train-data.dat', 'r') as f:\n",
        "    lines = f.readlines()\n",
        "    for line in lines:\n",
        "        # in every line erase any occurance that starts with < and ends with > with\n",
        "        newline = re.sub(\"\\<[^>]*\\>\", \"\", line)\n",
        "        newlines.append(newline)\n",
        "\n",
        "vocab = list(range(0, 8251))\n",
        "vects = []\n",
        "vect = []\n",
        "count = 0\n",
        "i = 0\n",
        "for line in newlines:\n",
        "    fraze = line.split()\n",
        "    fraze = [int(x) for x in fraze]\n",
        "    for v in vocab:\n",
        "        for f in fraze:\n",
        "            if(v == f):\n",
        "                count = count +1\n",
        "        vect.append(count)\n",
        "        count = 0\n",
        "    vect = np.array(vect)\n",
        "    #vects.append(np.interp(vect, (vect.min(), vect.max()), (-1, +1)))\n",
        "    vects.append(vect)\n",
        "    vect = []\n",
        "\n",
        "X_train = np.array(vects)\n",
        "vects = []"
      ],
      "metadata": {
        "id": "JnDq_X4fy_p1"
      },
      "execution_count": 4,
      "outputs": []
    },
    {
      "cell_type": "code",
      "source": [
        "def ce_model():\n",
        "    # Create model\n",
        "    model = Sequential()\n",
        "    #input layer with a hidden layer of (i+o)\n",
        "    model.add(Dense(units = len(X_train[0])+20, activation=\"relu\",kernel_regularizer=l2(0.9), bias_regularizer=l2(0.9),input_dim=len(X_train[0])))\n",
        "    #output layer with 20 output neuron cause the classfication classes are 20\n",
        "    model.add(Dense(units = 20, activation='sigmoid'))\n",
        "    opt = keras.optimizers.SGD(learning_rate=0.1,momentum=0.6, nesterov=False, name=\"SGD\")\n",
        "    model.compile(optimizer=opt, loss=keras.losses.binary_crossentropy, metrics=['accuracy'])\n",
        "    return model\n",
        "def mse_model():\n",
        "    # Create model\n",
        "    model = Sequential()\n",
        "    #input layer with a hidden layer of (i+o)\n",
        "    model.add(Dense(units = len(X_train[0])+20, activation=\"relu\",kernel_regularizer=l2(0.9), bias_regularizer=l2(0.9),input_dim=len(X_train[0])))\n",
        "    #output layer with 20 output neuron cause the classfication classes are 20\n",
        "    model.add(Dense(units = 20, activation='sigmoid'))\n",
        "    opt = keras.optimizers.SGD(learning_rate=0.1,momentum=0.6, nesterov=False, name=\"SGD\")\n",
        "    model.compile(optimizer=opt,loss=keras.losses.mse, metrics=['accuracy'])\n",
        "    return model"
      ],
      "metadata": {
        "id": "S-03vs-qlDtY"
      },
      "execution_count": 5,
      "outputs": []
    },
    {
      "cell_type": "code",
      "source": [
        "#c.cross-validation\n",
        "# Split the data to training and testing data 5-Fold\n",
        "kfold = KFold(n_splits=5, shuffle=True)\n",
        "ce_loss = []\n",
        "mse_loss = []\n",
        "acc_mse=[]\n",
        "acc_ce=[]"
      ],
      "metadata": {
        "id": "m0ADeL0y2NP0"
      },
      "execution_count": 6,
      "outputs": []
    },
    {
      "cell_type": "markdown",
      "source": [
        ""
      ],
      "metadata": {
        "id": "HbR9978ve4eP"
      }
    },
    {
      "cell_type": "code",
      "source": [
        "for i, (train, test) in enumerate(kfold.split(X_train)):\n",
        "\n",
        "    callback = EarlyStopping(monitor=\"val_accuracy\", mode=\"max\", min_delta=0, patience=5, verbose=0)\n",
        "    # Fit models\n",
        "    #CE\n",
        "    model1=ce_model()\n",
        "    history_ce = model1.fit(X_train[train], Y_train_labels[train],validation_data=(X_train[train], Y_train_labels[train]),callbacks=[callback],epochs=50, batch_size=200, verbose=0)\n",
        "    loss_ce, accuracy_ce = model1.evaluate(X_train[test], Y_train_labels[test],verbose=0)\n",
        "    #MSE\n",
        "    model2=mse_model()\n",
        "    history_mse = model2.fit(X_train[train], Y_train_labels[train],validation_data=(X_train[train], Y_train_labels[train]),callbacks=[callback],epochs=50, batch_size=200, verbose=0)\n",
        "    loss_mse, accuracy_mse = model2.evaluate(X_train[test], Y_train_labels[test],verbose=0)\n",
        "    \n",
        "    mse_loss.append(loss_mse)\n",
        "    acc_ce.append(accuracy_ce)\n",
        "    acc_mse.append(accuracy_mse)\n",
        "    ce_loss.append(loss_ce)\n",
        "\n",
        "    print(\"Fold :\", i)\n",
        "    print(\"CE :\", loss_ce)\n",
        "    print(\"MSE :\", loss_mse)\n",
        "    print(\"Acc_CE :\", accuracy_ce)\n",
        "    print(\"Acc_MSE :\", accuracy_mse)\n",
        "    print(\"---------------------------------------\")\n"
      ],
      "metadata": {
        "id": "L4loDwcL3ro0",
        "colab": {
          "base_uri": "https://localhost:8080/"
        },
        "outputId": "05d375c1-d7a1-417b-e1d3-952fb1a4c9b2"
      },
      "execution_count": 7,
      "outputs": [
        {
          "output_type": "stream",
          "name": "stdout",
          "text": [
            "Fold : 0\n",
            "CE : 0.48635604977607727\n",
            "MSE : 0.18535341322422028\n",
            "Acc_CE : 0.2453058809041977\n",
            "Acc_MSE : 0.2453058809041977\n",
            "---------------------------------------\n",
            "Fold : 1\n",
            "CE : 0.5186560153961182\n",
            "MSE : 0.17960146069526672\n",
            "Acc_CE : 0.25515151023864746\n",
            "Acc_MSE : 0.25515151023864746\n",
            "---------------------------------------\n",
            "Fold : 2\n",
            "CE : 0.5210169553756714\n",
            "MSE : 0.18377341330051422\n",
            "Acc_CE : 0.33212122321128845\n",
            "Acc_MSE : 0.260606050491333\n",
            "---------------------------------------\n",
            "Fold : 3\n",
            "CE : 0.4766937494277954\n",
            "MSE : 0.19098462164402008\n",
            "Acc_CE : 0.24848484992980957\n",
            "Acc_MSE : 0.24848484992980957\n",
            "---------------------------------------\n",
            "Fold : 4\n",
            "CE : 0.4823956787586212\n",
            "MSE : 0.19853414595127106\n",
            "Acc_CE : 0.25757575035095215\n",
            "Acc_MSE : 0.25757575035095215\n",
            "---------------------------------------\n"
          ]
        }
      ]
    },
    {
      "cell_type": "code",
      "source": [
        "#print the mean results\n",
        "print(\"Accuracy_MSE: \", np.mean(acc_mse))\n",
        "print(\"Accuracy_CE: \", np.mean(acc_ce))\n",
        "print(\"CE is : \", np.mean(ce_loss))\n",
        "print(\"MSE is : \", np.mean(mse_loss))"
      ],
      "metadata": {
        "id": "wPgXdei0hUvg",
        "colab": {
          "base_uri": "https://localhost:8080/"
        },
        "outputId": "47110686-2e4d-4405-86b1-42e7be4b85a1"
      },
      "execution_count": 8,
      "outputs": [
        {
          "output_type": "stream",
          "name": "stdout",
          "text": [
            "Accuracy_MSE:  0.253424808382988\n",
            "Accuracy_CE:  0.26772784292697904\n",
            "CE is :  0.4970236897468567\n",
            "MSE is :  0.18764941096305848\n"
          ]
        }
      ]
    },
    {
      "cell_type": "markdown",
      "source": [
        ""
      ],
      "metadata": {
        "id": "zoMlHo_NnmVU"
      }
    },
    {
      "cell_type": "code",
      "source": [
        "#Plots\n",
        "pyplot.figure(0)\n",
        "pyplot.subplot(2, 2, 1)\n",
        "pyplot.plot(history_ce.history['accuracy'], label='Accuracy (train)')\n",
        "pyplot.title(\"Accuracy with Cross Entropy loss\")\n",
        "pyplot.ylabel(\"Accuracy\")\n",
        "pyplot.xlabel(\"Epochs\")\n",
        "pyplot.legend()\n",
        "\n",
        "pyplot.subplot(2, 2, 2)\n",
        "pyplot.plot(history_mse.history['accuracy'], label='Accuracy (train)')\n",
        "pyplot.title(\"Accuracy with MSE loss\")\n",
        "pyplot.ylabel(\"Accuracy\")\n",
        "pyplot.xlabel(\"Epochs\")\n",
        "pyplot.legend()\n",
        "pyplot.tight_layout()\n",
        "pyplot.show()\n",
        "\n",
        "\n",
        "# plot the cross entropy loss\n",
        "pyplot.figure(1)\n",
        "pyplot.subplot(2, 2, 1)\n",
        "pyplot.plot(history_ce.history['loss'], label='Cross entropy (train)')\n",
        "pyplot.title('Cross Entropy')\n",
        "pyplot.xlabel('Epochs')\n",
        "pyplot.ylabel('Error value')\n",
        "pyplot.legend()\n",
        "\n",
        "# plot the mse loss\n",
        "pyplot.subplot(2, 2, 2)\n",
        "pyplot.plot(history_mse.history['loss'], label='MSE (train)')\n",
        "\n",
        "pyplot.title('MSE')\n",
        "pyplot.xlabel('Epochs')\n",
        "pyplot.ylabel('Error value')\n",
        "pyplot.legend()\n",
        "pyplot.tight_layout()\n",
        "pyplot.show()"
      ],
      "metadata": {
        "id": "CA74bjkI8ZhZ",
        "colab": {
          "base_uri": "https://localhost:8080/",
          "height": 347
        },
        "outputId": "69842af3-f2dd-4e25-c98e-8324a57d7774"
      },
      "execution_count": 9,
      "outputs": [
        {
          "output_type": "display_data",
          "data": {
            "text/plain": [
              "<Figure size 432x288 with 2 Axes>"
            ],
            "image/png": "[encoded data removed]"
          },
          "metadata": {
            "needs_background": "light"
          }
        },
        {
          "output_type": "display_data",
          "data": {
            "text/plain": [
              "<Figure size 432x288 with 2 Axes>"
            ],
            "image/png": "[encoded data removed]"
          },
          "metadata": {
            "needs_background": "light"
          }
        }
      ]
    }
  ]
}