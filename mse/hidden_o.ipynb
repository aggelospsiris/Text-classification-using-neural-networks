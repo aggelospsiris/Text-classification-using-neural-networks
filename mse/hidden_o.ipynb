{
  "nbformat": 4,
  "nbformat_minor": 0,
  "metadata": {
    "colab": {
      "name": "text_classification.ipynb",
      "provenance": [],
      "collapsed_sections": [],
      "authorship_tag": "ABX9TyN8bhIcCl8L5j4cOPRnHJHI",
      "include_colab_link": true
    },
    "kernelspec": {
      "name": "python3",
      "display_name": "Python 3"
    },
    "language_info": {
      "name": "python"
    },
    "accelerator": "GPU"
  },
  "cells": [
    {
      "cell_type": "markdown",
      "metadata": {
        "id": "view-in-github",
        "colab_type": "text"
      },
      "source": [
        "<a href=\"https://colab.research.google.com/github/aggelospsiris/Text-classification-using-neural-networks/blob/main/mse/hidden_o.ipynb\" target=\"_parent\"><img src=\"https://colab.research.google.com/assets/colab-badge.svg\" alt=\"Open In Colab\"/></a>"
      ]
    },
    {
      "cell_type": "code",
      "source": [
        "import tensorflow as tf\n",
        "tf.test.gpu_device_name()"
      ],
      "metadata": {
        "colab": {
          "base_uri": "https://localhost:8080/",
          "height": 35
        },
        "id": "0xMKvAGGR7QB",
        "outputId": "5c99a062-e05b-45af-f821-780157d73a55"
      },
      "execution_count": 1,
      "outputs": [
        {
          "output_type": "execute_result",
          "data": {
            "text/plain": [
              "'/device:GPU:0'"
            ],
            "application/vnd.google.colaboratory.intrinsic+json": {
              "type": "string"
            }
          },
          "metadata": {},
          "execution_count": 1
        }
      ]
    },
    {
      "cell_type": "code",
      "execution_count": 2,
      "metadata": {
        "id": "13vmleEWwYSe"
      },
      "outputs": [],
      "source": [
        "import re\n",
        "import numpy as np\n",
        "from keras.layers import Dense\n",
        "from keras.models import Sequential\n",
        "from sklearn import preprocessing\n",
        "from sklearn.model_selection import KFold\n",
        "from keras import backend as K\n",
        "import keras\n",
        "from tensorflow import keras\n",
        "from matplotlib import pyplot\n"
      ]
    },
    {
      "cell_type": "code",
      "source": [
        "#labels into vectors array\n",
        "Y_train_labels = np.loadtxt(\"/content/sample_data/train-label.dat\")\n"
      ],
      "metadata": {
        "id": "7aBhPNCVyuAX"
      },
      "execution_count": 3,
      "outputs": []
    },
    {
      "cell_type": "code",
      "source": [
        "#A1.preproccesing and prepare data\n",
        "#a.encode the input using bag of words\n",
        "#newline will have only the int numbers\n",
        "newlines = []\n",
        "with open('/content/sample_data/train-data.dat', 'r') as f:\n",
        "    lines = f.readlines()\n",
        "    for line in lines:\n",
        "        # in every line erase any occurance that starts with < and ends with > with\n",
        "        newline = re.sub(\"\\<[^>]*\\>\", \"\", line)\n",
        "        newlines.append(newline)\n",
        "\n",
        "vocab = list(range(0, 8251))\n",
        "vects = []\n",
        "vect = []\n",
        "count = 0\n",
        "i = 0\n",
        "for line in newlines:\n",
        "    fraze = line.split()\n",
        "    fraze = [int(x) for x in fraze]\n",
        "    for v in vocab:\n",
        "        for f in fraze:\n",
        "            if(v == f):\n",
        "                count = count +1\n",
        "        vect.append(count)\n",
        "        count = 0\n",
        "    vects.append(vect)\n",
        "    vect = []\n",
        "\n",
        "X_train = np.array(vects)"
      ],
      "metadata": {
        "id": "JnDq_X4fy_p1"
      },
      "execution_count": 4,
      "outputs": []
    },
    {
      "cell_type": "code",
      "source": [
        "#b.normalisation\n",
        "X_normalized = preprocessing.normalize(X_train, norm='max')"
      ],
      "metadata": {
        "id": "MWqrW3Av2F8r"
      },
      "execution_count": 5,
      "outputs": []
    },
    {
      "cell_type": "code",
      "source": [
        "#c.cross-validation\n",
        "# Split the data to training and testing data 5-Fold\n",
        "kfold = KFold(n_splits=5, shuffle=True)\n",
        "acc_list = []\n",
        "rmseList = []\n",
        "ce_list = []\n"
      ],
      "metadata": {
        "id": "m0ADeL0y2NP0"
      },
      "execution_count": 6,
      "outputs": []
    },
    {
      "cell_type": "markdown",
      "source": [
        "a)CE vs mse:\n",
        "\n",
        "\n",
        "*   Comparing the values of MSE & cross-entropy loss and saying that one is lower than the other is like comparing apples to oranges\n",
        "\n",
        "*   MSE is for regression problems, while cross-entropy loss is for classification ones; these contexts are mutually exclusive, hence comparing the numerical values of their corresponding loss measures makes no sense\n",
        "\n",
        "*   When your prediction vector is like [0,0.1,0.2,....1] (i.e. with non-integer components), as you say, the problem is a regression (and not a classification) one; in classification settings, we usually use one-hot encoded target vectors, where only one component is 1 and the rest are 0\n",
        "\n",
        "*   A target vector of [1,1,1,1....1] could be the case either in a regression setting, or in a multi-label multi-class classification, i.e. where the output may belong to more than one class simultaneously\n",
        "\n",
        "Source:https://stackoverflow.com/questions/49322197/comparing-mse-loss-and-cross-entropy-loss-in-terms-of-convergence\n",
        "\n",
        "b)For the number of neurons in the output,i will need 20 neurons on the output layer as much as the classes \n",
        "\n",
        "c)For the hidden layer ReLu because accelerates the convergence of gradient descent towards the global minimum of the loss function due to its linear, non-saturating property,also i dont have the they dying problem beacuse my inputs are all above zero \n",
        "\n",
        "d)On the output layer i am using sigmoid \n",
        "activation function because i have a multiple classification problem and i want my outputs to be either 0 or 1.If i had just one label for each input i would use Softmax"
      ],
      "metadata": {
        "id": "nmqDQ1lte4g1"
      }
    },
    {
      "cell_type": "markdown",
      "source": [
        ""
      ],
      "metadata": {
        "id": "HbR9978ve4eP"
      }
    },
    {
      "cell_type": "code",
      "source": [
        "for i, (train, test) in enumerate(kfold.split(X_normalized)):\n",
        "    # Create model\n",
        "    model = Sequential()\n",
        "    #hidden layers =  outputs\n",
        "    model.add(Dense(units = 20, activation=\"relu\", input_dim=len(X_normalized[0])))\n",
        "    model.add(Dense(units = 20, activation='sigmoid'))\n",
        "\n",
        "    opt = keras.optimizers.SGD(learning_rate=0.001,momentum=0.0, nesterov=False, name=\"SGD\")\n",
        "    model.compile(loss=keras.losses.mse, \n",
        "                  optimizer=opt, metrics=['accuracy'])\n",
        "\n",
        "    # Fit model\n",
        "    history = model.fit(X_normalized[train], Y_train_labels[train], epochs=50, batch_size=100, verbose=0)\n",
        "    print(\"Fold:\",i)\n",
        "    # Evaluate model\n",
        "    scores= model.evaluate(X_normalized[test], Y_train_labels[test], verbose=2)\n",
        "    ce_list.append(scores[0])\n",
        "\n",
        "\t  \n",
        "\n"
      ],
      "metadata": {
        "id": "L4loDwcL3ro0",
        "colab": {
          "base_uri": "https://localhost:8080/"
        },
        "outputId": "64f257c0-f1e3-41f2-e550-d49c081f6086"
      },
      "execution_count": 24,
      "outputs": [
        {
          "output_type": "stream",
          "name": "stdout",
          "text": [
            "Fold: 0\n",
            "52/52 - 0s - loss: 0.2421 - accuracy: 0.0806 - 246ms/epoch - 5ms/step\n",
            "Fold: 1\n",
            "52/52 - 0s - loss: 0.2416 - accuracy: 0.0782 - 257ms/epoch - 5ms/step\n",
            "Fold: 2\n",
            "52/52 - 0s - loss: 0.2408 - accuracy: 0.1133 - 253ms/epoch - 5ms/step\n",
            "Fold: 3\n",
            "52/52 - 0s - loss: 0.2427 - accuracy: 0.0618 - 258ms/epoch - 5ms/step\n",
            "Fold: 4\n",
            "52/52 - 0s - loss: 0.2444 - accuracy: 0.1182 - 338ms/epoch - 6ms/step\n"
          ]
        }
      ]
    },
    {
      "cell_type": "markdown",
      "source": [
        ""
      ],
      "metadata": {
        "id": "zoMlHo_NnmVU"
      }
    },
    {
      "cell_type": "code",
      "source": [
        "pyplot.plot(history.history['accuracy'])\n",
        "pyplot.title('model accuracy')\n",
        "pyplot.ylabel('accuracy')\n",
        "pyplot.xlabel('epoch')\n",
        "pyplot.show()\n"
      ],
      "metadata": {
        "colab": {
          "base_uri": "https://localhost:8080/",
          "height": 295
        },
        "id": "CA74bjkI8ZhZ",
        "outputId": "c4d0cf91-efe1-4352-80a5-e693a6619101"
      },
      "execution_count": 25,
      "outputs": [
        {
          "output_type": "display_data",
          "data": {
            "text/plain": [
              "<Figure size 432x288 with 1 Axes>"
            ],
            "image/png": "[encoded data removed]"
          },
          "metadata": {
            "needs_background": "light"
          }
        }
      ]
    },
    {
      "cell_type": "code",
      "source": [
        "pyplot.plot(history.history['loss'])\n",
        "pyplot.title('model loss')\n",
        "pyplot.ylabel('loss')\n",
        "pyplot.xlabel('epoch')\n",
        "pyplot.show()"
      ],
      "metadata": {
        "colab": {
          "base_uri": "https://localhost:8080/",
          "height": 295
        },
        "id": "9Fu8Zv8tB6Hh",
        "outputId": "56b5c0bb-cc66-4bbc-c47b-d86a3f7c1a42"
      },
      "execution_count": 26,
      "outputs": [
        {
          "output_type": "display_data",
          "data": {
            "text/plain": [
              "<Figure size 432x288 with 1 Axes>"
            ],
            "image/png": "[encoded data removed]"
          },
          "metadata": {
            "needs_background": "light"
          }
        }
      ]
    }
  ]
}