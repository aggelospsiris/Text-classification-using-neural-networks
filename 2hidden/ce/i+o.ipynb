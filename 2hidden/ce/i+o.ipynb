{
  "nbformat": 4,
  "nbformat_minor": 0,
  "metadata": {
    "colab": {
      "name": "text_classification.ipynb",
      "provenance": [],
      "collapsed_sections": [],
      "authorship_tag": "ABX9TyMGXajr/RQ3mchi8yVj0UIW",
      "include_colab_link": true
    },
    "kernelspec": {
      "name": "python3",
      "display_name": "Python 3"
    },
    "language_info": {
      "name": "python"
    },
    "accelerator": "GPU"
  },
  "cells": [
    {
      "cell_type": "markdown",
      "metadata": {
        "id": "view-in-github",
        "colab_type": "text"
      },
      "source": [
        "<a href=\"https://colab.research.google.com/github/aggelospsiris/Text-classification-using-neural-networks/blob/main/2hidden/ce/i%2Bo.ipynb\" target=\"_parent\"><img src=\"https://colab.research.google.com/assets/colab-badge.svg\" alt=\"Open In Colab\"/></a>"
      ]
    },
    {
      "cell_type": "code",
      "source": [
        "import tensorflow as tf\n",
        "tf.test.gpu_device_name()"
      ],
      "metadata": {
        "colab": {
          "base_uri": "https://localhost:8080/",
          "height": 35
        },
        "id": "0xMKvAGGR7QB",
        "outputId": "7dae16bb-eed6-488b-fbe8-74dca927dd39"
      },
      "execution_count": 37,
      "outputs": [
        {
          "output_type": "execute_result",
          "data": {
            "text/plain": [
              "'/device:GPU:0'"
            ],
            "application/vnd.google.colaboratory.intrinsic+json": {
              "type": "string"
            }
          },
          "metadata": {},
          "execution_count": 37
        }
      ]
    },
    {
      "cell_type": "code",
      "execution_count": 38,
      "metadata": {
        "id": "13vmleEWwYSe"
      },
      "outputs": [],
      "source": [
        "import re\n",
        "import numpy as np\n",
        "from keras.layers import Dense\n",
        "from keras.models import Sequential\n",
        "from sklearn import preprocessing\n",
        "from sklearn.model_selection import KFold\n",
        "from keras import backend as K\n",
        "import keras\n",
        "from tensorflow import keras\n",
        "from matplotlib import pyplot\n"
      ]
    },
    {
      "cell_type": "code",
      "source": [
        "#labels into vectors array\n",
        "Y_train_labels = np.loadtxt(\"/content/sample_data/train-label.dat\")\n"
      ],
      "metadata": {
        "id": "7aBhPNCVyuAX"
      },
      "execution_count": 39,
      "outputs": []
    },
    {
      "cell_type": "code",
      "source": [
        "#A1.preproccesing and prepare data\n",
        "#a.encode the input using bag of words\n",
        "#newline will have only the int numbers\n",
        "newlines = []\n",
        "with open('/content/sample_data/train-data.dat', 'r') as f:\n",
        "    lines = f.readlines()\n",
        "    for line in lines:\n",
        "        # in every line erase any occurance that starts with < and ends with > with\n",
        "        newline = re.sub(\"\\<[^>]*\\>\", \"\", line)\n",
        "        newlines.append(newline)\n",
        "\n",
        "vocab = list(range(0, 8251))\n",
        "vects = []\n",
        "vect = []\n",
        "count = 0\n",
        "i = 0\n",
        "for line in newlines:\n",
        "    fraze = line.split()\n",
        "    fraze = [int(x) for x in fraze]\n",
        "    for v in vocab:\n",
        "        for f in fraze:\n",
        "            if(v == f):\n",
        "                count = count +1\n",
        "        vect.append(count)\n",
        "        count = 0\n",
        "    vects.append(vect)\n",
        "    vect = []\n",
        "\n",
        "X_train = np.array(vects)"
      ],
      "metadata": {
        "id": "JnDq_X4fy_p1"
      },
      "execution_count": 40,
      "outputs": []
    },
    {
      "cell_type": "code",
      "source": [
        "#b.normalisation\n",
        "X_normalized = preprocessing.normalize(X_train, norm='max')"
      ],
      "metadata": {
        "id": "MWqrW3Av2F8r"
      },
      "execution_count": 41,
      "outputs": []
    },
    {
      "cell_type": "code",
      "source": [
        "#c.cross-validation\n",
        "# Split the data to training and testing data 5-Fold\n",
        "kfold = KFold(n_splits=5, shuffle=True)\n",
        "acc_list = []\n",
        "loss_list = []\n"
      ],
      "metadata": {
        "id": "m0ADeL0y2NP0"
      },
      "execution_count": 42,
      "outputs": []
    },
    {
      "cell_type": "markdown",
      "source": [
        "a)CE vs mse:\n",
        "\n",
        "\n",
        "*   Comparing the values of MSE & cross-entropy loss and saying that one is lower than the other is like comparing apples to oranges\n",
        "\n",
        "*   MSE is for regression problems, while cross-entropy loss is for classification ones; these contexts are mutually exclusive, hence comparing the numerical values of their corresponding loss measures makes no sense\n",
        "\n",
        "*   When your prediction vector is like [0,0.1,0.2,....1] (i.e. with non-integer components), as you say, the problem is a regression (and not a classification) one; in classification settings, we usually use one-hot encoded target vectors, where only one component is 1 and the rest are 0\n",
        "\n",
        "*   A target vector of [1,1,1,1....1] could be the case either in a regression setting, or in a multi-label multi-class classification, i.e. where the output may belong to more than one class simultaneously\n",
        "\n",
        "Source:https://stackoverflow.com/questions/49322197/comparing-mse-loss-and-cross-entropy-loss-in-terms-of-convergence\n",
        "\n",
        "b)For the number of neurons in the output,i will need 20 neurons on the output layer as much as the classes \n",
        "\n",
        "c)For the hidden layer ReLu because accelerates the convergence of gradient descent towards the global minimum of the loss function due to its linear, non-saturating property,also i dont have the they dying problem beacuse my inputs are all above zero \n",
        "\n",
        "d)On the output layer i am using sigmoid \n",
        "activation function because i have a multiple classification problem and i want my outputs to be either 0 or 1.If i had just one label for each input i would use Softmax"
      ],
      "metadata": {
        "id": "nmqDQ1lte4g1"
      }
    },
    {
      "cell_type": "markdown",
      "source": [
        ""
      ],
      "metadata": {
        "id": "HbR9978ve4eP"
      }
    },
    {
      "cell_type": "code",
      "source": [
        "for i, (train, test) in enumerate(kfold.split(X_normalized)):\n",
        "    # Create model\n",
        "    model = Sequential()\n",
        "    #hidden layers 1 = inputs + outputs\n",
        "    #hidden layer 2 = 2*inputs\n",
        "    model.add(Dense(units = len(X_normalized[0]) + 20, activation=\"relu\", input_dim=len(X_normalized[0])))\n",
        "    model.add(Dense(units = len(X_normalized[0]) + 20 , activation = 'relu')) \n",
        "    model.add(Dense(units = 20, activation='sigmoid'))\n",
        "\n",
        "    opt = keras.optimizers.SGD(learning_rate=0.001,momentum=0.0, nesterov=False, name=\"SGD\")\n",
        "    model.compile(loss=keras.losses.binary_crossentropy, \n",
        "                  optimizer=opt, metrics=['accuracy'])\n",
        "\n",
        "    # Fit model\n",
        "    history = model.fit(X_normalized[train], Y_train_labels[train], epochs=50, batch_size=100, verbose=0)\n",
        "    print(\"Fold:\",i)\n",
        "    # Evaluate model\n",
        "    scores= model.evaluate(X_normalized[test], Y_train_labels[test], verbose=2)\n",
        "    loss_list.append(scores[0])\n",
        "    acc_list.append(scores[1])\n",
        "\n",
        "\n",
        "\t  \n",
        "\n"
      ],
      "metadata": {
        "id": "L4loDwcL3ro0",
        "colab": {
          "base_uri": "https://localhost:8080/"
        },
        "outputId": "5e255804-7bab-4bf7-d0cc-7ff9398588fb"
      },
      "execution_count": 44,
      "outputs": [
        {
          "output_type": "stream",
          "name": "stdout",
          "text": [
            "Fold: 0\n",
            "52/52 - 1s - loss: 0.6187 - accuracy: 0.2538 - 776ms/epoch - 15ms/step\n",
            "Fold: 1\n",
            "52/52 - 1s - loss: 0.6173 - accuracy: 0.2364 - 898ms/epoch - 17ms/step\n",
            "Fold: 2\n",
            "52/52 - 1s - loss: 0.6165 - accuracy: 0.2564 - 786ms/epoch - 15ms/step\n",
            "Fold: 3\n",
            "52/52 - 1s - loss: 0.6171 - accuracy: 0.2697 - 877ms/epoch - 17ms/step\n",
            "Fold: 4\n",
            "52/52 - 1s - loss: 0.6168 - accuracy: 0.2473 - 919ms/epoch - 18ms/step\n"
          ]
        }
      ]
    },
    {
      "cell_type": "code",
      "source": [
        "print(\"Loss = \", np.mean(loss_list))\n",
        "print(\"Acc = \", np.mean(acc_list))\n"
      ],
      "metadata": {
        "id": "wPgXdei0hUvg",
        "colab": {
          "base_uri": "https://localhost:8080/"
        },
        "outputId": "900ba8ca-6e0b-4eae-d983-8ab40d6d7705"
      },
      "execution_count": 45,
      "outputs": [
        {
          "output_type": "stream",
          "name": "stdout",
          "text": [
            "Loss =  0.6178282234403822\n",
            "Acc =  0.2520206305715773\n"
          ]
        }
      ]
    },
    {
      "cell_type": "markdown",
      "source": [
        ""
      ],
      "metadata": {
        "id": "zoMlHo_NnmVU"
      }
    },
    {
      "cell_type": "code",
      "source": [
        "pyplot.plot(history.history['accuracy'])\n",
        "pyplot.title('model accuracy')\n",
        "pyplot.ylabel('accuracy')\n",
        "pyplot.xlabel('epoch')\n",
        "pyplot.show()\n"
      ],
      "metadata": {
        "colab": {
          "base_uri": "https://localhost:8080/",
          "height": 295
        },
        "id": "CA74bjkI8ZhZ",
        "outputId": "53916569-7360-4b58-fe6d-942aae4cf824"
      },
      "execution_count": 46,
      "outputs": [
        {
          "output_type": "display_data",
          "data": {
            "text/plain": [
              "<Figure size 432x288 with 1 Axes>"
            ],
            "image/png": "[encoded data removed]"
          },
          "metadata": {
            "needs_background": "light"
          }
        }
      ]
    },
    {
      "cell_type": "code",
      "source": [
        "pyplot.plot(history.history['loss'])\n",
        "pyplot.title('model loss')\n",
        "pyplot.ylabel('loss')\n",
        "pyplot.xlabel('epoch')\n",
        "pyplot.show()"
      ],
      "metadata": {
        "colab": {
          "base_uri": "https://localhost:8080/",
          "height": 295
        },
        "id": "9Fu8Zv8tB6Hh",
        "outputId": "91149bb0-0c43-46f6-e3b6-87121b955c70"
      },
      "execution_count": 47,
      "outputs": [
        {
          "output_type": "display_data",
          "data": {
            "text/plain": [
              "<Figure size 432x288 with 1 Axes>"
            ],
            "image/png": "[encoded data removed]"
          },
          "metadata": {
            "needs_background": "light"
          }
        }
      ]
    }
  ]
}